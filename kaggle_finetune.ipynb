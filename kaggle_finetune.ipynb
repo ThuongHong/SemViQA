{
 "cells": [
  {
   "cell_type": "markdown",
   "id": "a5aa5a8e",
   "metadata": {},
   "source": [
    "# Fine-tune Model on Kaggle with GPU T4x2\n",
    "This notebook demonstrates how to fine-tune a model using GPU T4x2 on Kaggle. It includes steps to clone the repository, install dependencies, and execute the bash script."
   ]
  },
  {
   "cell_type": "code",
   "execution_count": null,
   "id": "f814f62e",
   "metadata": {},
   "outputs": [
    {
     "ename": "",
     "evalue": "",
     "output_type": "error",
     "traceback": [
      "\u001b[1;31mRunning cells with 'base (Python 3.12.11)' requires the ipykernel package.\n",
      "\u001b[1;31m<a href='command:jupyter.createPythonEnvAndSelectController'>Create a Python Environment</a> with the required packages.\n",
      "\u001b[1;31mOr install 'ipykernel' using the command: 'conda install -n base ipykernel --update-deps --force-reinstall'"
     ]
    }
   ],
   "source": [
    "# Clone the SemViQA repository\n",
    "!git clone https://github.com/ThuongHong/SemViQA.git"
   ]
  },
  {
   "cell_type": "code",
   "execution_count": null,
   "id": "e88a2f4f",
   "metadata": {},
   "outputs": [],
   "source": [
    "# Upgrade pip and install dependencies\n",
    "!pip install --upgrade pip\n",
    "!pip install transformers==4.42.3\n",
    "!pip install torch==2.3.0 torchvision==0.18.0 torchaudio==2.3.0 --index-url https://download.pytorch.org/whl/cu118\n",
    "!pip install -r SemViQA/requirements.txt"
   ]
  },
  {
   "cell_type": "code",
   "execution_count": null,
   "id": "9d652246",
   "metadata": {},
   "outputs": [],
   "source": [
    "# Change directory to the cloned repository\n",
    "%cd SemViQA"
   ]
  },
  {
   "cell_type": "code",
   "execution_count": null,
   "id": "55780be0",
   "metadata": {},
   "outputs": [],
   "source": [
    "# Run the bash script\n",
    "!bash SemViQA/scripts/tc.sh"
   ]
  }
 ],
 "metadata": {
  "kernelspec": {
   "display_name": "base",
   "language": "python",
   "name": "python3"
  },
  "language_info": {
   "name": "python",
   "version": "3.12.11"
  }
 },
 "nbformat": 4,
 "nbformat_minor": 5
}
